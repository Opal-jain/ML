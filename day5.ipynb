{
 "cells": [
  {
   "cell_type": "code",
   "execution_count": 9,
   "metadata": {},
   "outputs": [],
   "source": [
    "import cv2\n",
    "from time import sleep\n",
    "\n",
    "fd=cv2.CascadeClassifier(\n",
    "    cv2.data.haarcascades + \n",
    "    'haarcascade_frontalface_default.xml'\n",
    ")\n",
    "sd=cv2.CascadeClassifier(\n",
    "    cv2.data.haarcascades + \n",
    "    'haarcascade_smile.xml'\n",
    ")\n",
    "\n",
    "vid= cv2.VideoCapture(0)\n",
    "while True:\n",
    "    flag, img = vid.read()\n",
    "    if flag:\n",
    "        img_gray = cv2.cvtColor(img, cv2.COLOR_BGR2GRAY)\n",
    "        x1,y1,w,h= (200,400,300,400)\n",
    "\n",
    "        faces = fd.detectMultiScale(img_gray,1.1,5)\n",
    "        for x1,y1,w,h in faces:\n",
    "            img_cropped = img[y1:y1+h,x1:x1+w,:]\n",
    "            cv2.rectangle(\n",
    "                img, \n",
    "                pt1=(x1,y1), pt2=(x1+w,y1+h), \n",
    "                color=(0,0,255), thickness=10\n",
    "            )\n",
    "        smile = sd.detectMultiScale(img_gray,1.1,5)\n",
    "        for x1,y1,w,h in smile:\n",
    "            img_cropped = img[y1:y1+h,x1:x1+w,:]\n",
    "            cv2.rectangle(\n",
    "                img, \n",
    "                pt1=(x1,y1), pt2=(x1+w,y1+h), \n",
    "                color=(255,0,0), thickness=10\n",
    "            )\n",
    "\n",
    "        cv2.imshow('Preview',img)\n",
    "        key = cv2.waitKey(1)\n",
    "        if key == ord('x'):\n",
    "            break\n",
    "    else:\n",
    "        break\n",
    "    sleep(0.1)\n",
    "vid.release()        \n",
    "cv2.destroyAllWindows()"
   ]
  },
  {
   "cell_type": "code",
   "execution_count": 10,
   "metadata": {},
   "outputs": [
    {
     "ename": "NameError",
     "evalue": "name 'xs' is not defined",
     "output_type": "error",
     "traceback": [
      "\u001b[1;31m---------------------------------------------------------------------------\u001b[0m",
      "\u001b[1;31mNameError\u001b[0m                                 Traceback (most recent call last)",
      "Cell \u001b[1;32mIn[10], line 34\u001b[0m\n\u001b[0;32m     29\u001b[0m         \u001b[39mif\u001b[39;00m \u001b[39mlen\u001b[39m(smiles) \u001b[39m==\u001b[39m \u001b[39m1\u001b[39m:\n\u001b[0;32m     30\u001b[0m             xs,ys,ws,hs \u001b[39m=\u001b[39m smiles[\u001b[39m0\u001b[39m]\n\u001b[0;32m     32\u001b[0m         cv2\u001b[39m.\u001b[39mrectangle(\n\u001b[0;32m     33\u001b[0m             img, \n\u001b[1;32m---> 34\u001b[0m             pt1\u001b[39m=\u001b[39m(xs,ys), pt2\u001b[39m=\u001b[39m(xs\u001b[39m+\u001b[39mws,ys\u001b[39m+\u001b[39mhs), \n\u001b[0;32m     35\u001b[0m             color\u001b[39m=\u001b[39m(\u001b[39m0\u001b[39m,\u001b[39m0\u001b[39m,\u001b[39m255\u001b[39m), thickness\u001b[39m=\u001b[39m\u001b[39m10\u001b[39m\n\u001b[0;32m     36\u001b[0m         )\n\u001b[0;32m     37\u001b[0m \u001b[39m#   smile = sd.detectMultiScale(img_gray,1.1,5)\u001b[39;00m\n\u001b[0;32m     38\u001b[0m \u001b[39m#     for x1,y1,w,h in smile:\u001b[39;00m\n\u001b[0;32m     39\u001b[0m \u001b[39m#         img_cropped = img[y1:y1+h,x1:x1+w,:]\u001b[39;00m\n\u001b[1;32m   (...)\u001b[0m\n\u001b[0;32m     43\u001b[0m \u001b[39m#             color=(255,0,0), thickness=10\u001b[39;00m\n\u001b[0;32m     44\u001b[0m \u001b[39m#         )\u001b[39;00m\n\u001b[0;32m     46\u001b[0m     cv2\u001b[39m.\u001b[39mimshow(\u001b[39m'\u001b[39m\u001b[39mPreview\u001b[39m\u001b[39m'\u001b[39m,img)\n",
      "\u001b[1;31mNameError\u001b[0m: name 'xs' is not defined"
     ]
    },
    {
     "ename": "",
     "evalue": "",
     "output_type": "error",
     "traceback": [
      "\u001b[1;31mThe Kernel crashed while executing code in the the current cell or a previous cell. Please review the code in the cell(s) to identify a possible cause of the failure. Click <a href='https://aka.ms/vscodeJupyterKernelCrash'>here</a> for more info. View Jupyter <a href='command:jupyter.viewOutput'>log</a> for further details."
     ]
    }
   ],
   "source": [
    "import cv2\n",
    "from time import sleep\n",
    "\n",
    "fd=cv2.CascadeClassifier(\n",
    "    cv2.data.haarcascades + \n",
    "    'haarcascade_frontalface_default.xml'\n",
    ")\n",
    "sd=cv2.CascadeClassifier(\n",
    "    cv2.data.haarcascades + \n",
    "    'haarcascade_smile.xml'\n",
    ")\n",
    "\n",
    "vid= cv2.VideoCapture(0)\n",
    "while True:\n",
    "    flag, img = vid.read()\n",
    "    if flag:\n",
    "        img_gray = cv2.cvtColor(img, cv2.COLOR_BGR2GRAY)\n",
    "        x1,y1,w,h= (200,400,300,400)\n",
    "\n",
    "        faces = fd.detectMultiScale(img_gray,\n",
    "                                    scaleFactor = 1.1,\n",
    "                                    minNeighbors = 5,\n",
    "                                    minSize = (180,180)\n",
    "                                    )\n",
    "        for x1,y1,w,h in faces:\n",
    "            face = img_gray[y1:y1+h,x1:x1+w].copy()\n",
    "            smiles = sd.detectMultiScale(face,1.1,5)\n",
    "\n",
    "            if len(smiles) == 1:\n",
    "                xs,ys,ws,hs = smiles[0]\n",
    "\n",
    "            cv2.rectangle(\n",
    "                img, \n",
    "                pt1=(xs,ys), pt2=(xs+ws,ys+hs), \n",
    "                color=(0,0,255), thickness=10\n",
    "            )\n",
    "    #   smile = sd.detectMultiScale(img_gray,1.1,5)\n",
    "    #     for x1,y1,w,h in smile:\n",
    "    #         img_cropped = img[y1:y1+h,x1:x1+w,:]\n",
    "    #         cv2.rectangle(\n",
    "    #             img, \n",
    "    #             pt1=(x1,y1), pt2=(x1+w,y1+h), \n",
    "    #             color=(255,0,0), thickness=10\n",
    "    #         )\n",
    "\n",
    "        cv2.imshow('Preview',img)\n",
    "        key = cv2.waitKey(1)\n",
    "        if key == ord('x'):\n",
    "            break\n",
    "    else:\n",
    "        break\n",
    "    sleep(0.1)\n",
    "vid.release()        \n",
    "cv2.destroyAllWindows()"
   ]
  },
  {
   "cell_type": "code",
   "execution_count": null,
   "metadata": {},
   "outputs": [],
   "source": []
  }
 ],
 "metadata": {
  "kernelspec": {
   "display_name": "Python 3",
   "language": "python",
   "name": "python3"
  },
  "language_info": {
   "codemirror_mode": {
    "name": "ipython",
    "version": 3
   },
   "file_extension": ".py",
   "mimetype": "text/x-python",
   "name": "python",
   "nbconvert_exporter": "python",
   "pygments_lexer": "ipython3",
   "version": "3.10.11"
  },
  "orig_nbformat": 4
 },
 "nbformat": 4,
 "nbformat_minor": 2
}
