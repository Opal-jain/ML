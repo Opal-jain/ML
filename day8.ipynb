{
 "cells": [
  {
   "cell_type": "code",
   "execution_count": 1,
   "metadata": {},
   "outputs": [
    {
     "name": "stdout",
     "output_type": "stream",
     "text": [
      "Requirement already satisfied: cmake in c:\\users\\opal8\\appdata\\local\\programs\\python\\python310\\lib\\site-packages (3.26.3)\n"
     ]
    },
    {
     "name": "stderr",
     "output_type": "stream",
     "text": [
      "\n",
      "[notice] A new release of pip is available: 23.0.1 -> 23.1.2\n",
      "[notice] To update, run: python.exe -m pip install --upgrade pip\n"
     ]
    }
   ],
   "source": [
    "!python -m pip install cmake"
   ]
  },
  {
   "cell_type": "code",
   "execution_count": 2,
   "metadata": {},
   "outputs": [
    {
     "name": "stdout",
     "output_type": "stream",
     "text": [
      "Collecting face_recognition\n",
      "  Using cached face_recognition-1.3.0-py2.py3-none-any.whl (15 kB)\n",
      "Collecting dlib>=19.7\n",
      "  Using cached dlib-19.24.1.tar.gz (3.2 MB)\n",
      "  Preparing metadata (setup.py): started\n",
      "  Preparing metadata (setup.py): finished with status 'done'\n",
      "Requirement already satisfied: face-recognition-models>=0.3.0 in c:\\users\\opal8\\appdata\\local\\programs\\python\\python310\\lib\\site-packages (from face_recognition) (0.3.0)\n",
      "Requirement already satisfied: Pillow in c:\\users\\opal8\\appdata\\local\\programs\\python\\python310\\lib\\site-packages (from face_recognition) (9.5.0)\n",
      "Collecting Click>=6.0\n",
      "  Using cached click-8.1.3-py3-none-any.whl (96 kB)\n",
      "Requirement already satisfied: numpy in c:\\users\\opal8\\appdata\\local\\programs\\python\\python310\\lib\\site-packages (from face_recognition) (1.24.3)\n",
      "Requirement already satisfied: colorama in c:\\users\\opal8\\appdata\\roaming\\python\\python310\\site-packages (from Click>=6.0->face_recognition) (0.4.6)\n",
      "Installing collected packages: dlib, Click, face_recognition\n",
      "  Running setup.py install for dlib: started\n",
      "  Running setup.py install for dlib: finished with status 'error'\n"
     ]
    },
    {
     "name": "stderr",
     "output_type": "stream",
     "text": [
      "  DEPRECATION: dlib is being installed using the legacy 'setup.py install' method, because it does not have a 'pyproject.toml' and the 'wheel' package is not installed. pip 23.1 will enforce this behaviour change. A possible replacement is to enable the '--use-pep517' option. Discussion can be found at https://github.com/pypa/pip/issues/8559\n",
      "  error: subprocess-exited-with-error\n",
      "  \n",
      "  × Running setup.py install for dlib did not run successfully.\n",
      "  │ exit code: 1\n",
      "  ╰─> [72 lines of output]\n",
      "      running install\n",
      "      c:\\Users\\opal8\\AppData\\Local\\Programs\\Python\\Python310\\lib\\site-packages\\setuptools\\command\\install.py:34: SetuptoolsDeprecationWarning: setup.py install is deprecated. Use build and pip and other standards-based tools.\n",
      "        warnings.warn(\n",
      "      running build\n",
      "      running build_py\n",
      "      running build_ext\n",
      "      C:\\Users\\opal8\\AppData\\Local\\Temp\\pip-install-lhzx3598\\dlib_918974c2d87c413a9698f3f97471efe6\\setup.py:129: DeprecationWarning: distutils Version classes are deprecated. Use packaging.version instead.\n",
      "        if LooseVersion(cmake_version) < '3.1.0':\n",
      "      Building extension for Python 3.10.11 (tags/v3.10.11:7d4cc5a, Apr  5 2023, 00:38:17) [MSC v.1929 64 bit (AMD64)]\n",
      "      Invoking CMake setup: 'cmake C:\\Users\\opal8\\AppData\\Local\\Temp\\pip-install-lhzx3598\\dlib_918974c2d87c413a9698f3f97471efe6\\tools\\python -DCMAKE_LIBRARY_OUTPUT_DIRECTORY=C:\\Users\\opal8\\AppData\\Local\\Temp\\pip-install-lhzx3598\\dlib_918974c2d87c413a9698f3f97471efe6\\build\\lib.win-amd64-cpython-310 -DPYTHON_EXECUTABLE=c:\\Users\\opal8\\AppData\\Local\\Programs\\Python\\Python310\\python.exe -DCMAKE_LIBRARY_OUTPUT_DIRECTORY_RELEASE=C:\\Users\\opal8\\AppData\\Local\\Temp\\pip-install-lhzx3598\\dlib_918974c2d87c413a9698f3f97471efe6\\build\\lib.win-amd64-cpython-310 -A x64'\n",
      "      -- Building for: NMake Makefiles\n",
      "      CMake Error at CMakeLists.txt:5 (message):\n",
      "      \n",
      "      \n",
      "      \n",
      "        !!!!!!!!!!!!!!!!!!!!!!!!!!!!!!!!!!!!!!!!!!!!!!!!!!!!!!!!!!!!!!!!!!!!!!!!!!!!!!!\n",
      "      \n",
      "      \n",
      "        You must use Visual Studio to build a python extension on windows.  If you\n",
      "        are getting this error it means you have not installed Visual C++.  Note\n",
      "        that there are many flavors of Visual Studio, like Visual Studio for C#\n",
      "        development.  You need to install Visual Studio for C++.\n",
      "      \n",
      "      \n",
      "        !!!!!!!!!!!!!!!!!!!!!!!!!!!!!!!!!!!!!!!!!!!!!!!!!!!!!!!!!!!!!!!!!!!!!!!!!!!!!!!\n",
      "      \n",
      "      \n",
      "      \n",
      "      \n",
      "      -- Configuring incomplete, errors occurred!\n",
      "      Traceback (most recent call last):\n",
      "        File \"<string>\", line 2, in <module>\n",
      "        File \"<pip-setuptools-caller>\", line 34, in <module>\n",
      "        File \"C:\\Users\\opal8\\AppData\\Local\\Temp\\pip-install-lhzx3598\\dlib_918974c2d87c413a9698f3f97471efe6\\setup.py\", line 222, in <module>\n",
      "          setup(\n",
      "        File \"c:\\Users\\opal8\\AppData\\Local\\Programs\\Python\\Python310\\lib\\site-packages\\setuptools\\__init__.py\", line 87, in setup\n",
      "          return distutils.core.setup(**attrs)\n",
      "        File \"c:\\Users\\opal8\\AppData\\Local\\Programs\\Python\\Python310\\lib\\site-packages\\setuptools\\_distutils\\core.py\", line 185, in setup\n",
      "          return run_commands(dist)\n",
      "        File \"c:\\Users\\opal8\\AppData\\Local\\Programs\\Python\\Python310\\lib\\site-packages\\setuptools\\_distutils\\core.py\", line 201, in run_commands\n",
      "          dist.run_commands()\n",
      "        File \"c:\\Users\\opal8\\AppData\\Local\\Programs\\Python\\Python310\\lib\\site-packages\\setuptools\\_distutils\\dist.py\", line 968, in run_commands\n",
      "          self.run_command(cmd)\n",
      "        File \"c:\\Users\\opal8\\AppData\\Local\\Programs\\Python\\Python310\\lib\\site-packages\\setuptools\\dist.py\", line 1217, in run_command\n",
      "          super().run_command(command)\n",
      "        File \"c:\\Users\\opal8\\AppData\\Local\\Programs\\Python\\Python310\\lib\\site-packages\\setuptools\\_distutils\\dist.py\", line 987, in run_command\n",
      "          cmd_obj.run()\n",
      "        File \"c:\\Users\\opal8\\AppData\\Local\\Programs\\Python\\Python310\\lib\\site-packages\\setuptools\\command\\install.py\", line 68, in run\n",
      "          return orig.install.run(self)\n",
      "        File \"c:\\Users\\opal8\\AppData\\Local\\Programs\\Python\\Python310\\lib\\site-packages\\setuptools\\_distutils\\command\\install.py\", line 698, in run\n",
      "          self.run_command('build')\n",
      "        File \"c:\\Users\\opal8\\AppData\\Local\\Programs\\Python\\Python310\\lib\\site-packages\\setuptools\\_distutils\\cmd.py\", line 319, in run_command\n",
      "          self.distribution.run_command(command)\n",
      "        File \"c:\\Users\\opal8\\AppData\\Local\\Programs\\Python\\Python310\\lib\\site-packages\\setuptools\\dist.py\", line 1217, in run_command\n",
      "          super().run_command(command)\n",
      "        File \"c:\\Users\\opal8\\AppData\\Local\\Programs\\Python\\Python310\\lib\\site-packages\\setuptools\\_distutils\\dist.py\", line 987, in run_command\n",
      "          cmd_obj.run()\n",
      "        File \"c:\\Users\\opal8\\AppData\\Local\\Programs\\Python\\Python310\\lib\\site-packages\\setuptools\\_distutils\\command\\build.py\", line 132, in run\n",
      "          self.run_command(cmd_name)\n",
      "        File \"c:\\Users\\opal8\\AppData\\Local\\Programs\\Python\\Python310\\lib\\site-packages\\setuptools\\_distutils\\cmd.py\", line 319, in run_command\n",
      "          self.distribution.run_command(command)\n",
      "        File \"c:\\Users\\opal8\\AppData\\Local\\Programs\\Python\\Python310\\lib\\site-packages\\setuptools\\dist.py\", line 1217, in run_command\n",
      "          super().run_command(command)\n",
      "        File \"c:\\Users\\opal8\\AppData\\Local\\Programs\\Python\\Python310\\lib\\site-packages\\setuptools\\_distutils\\dist.py\", line 987, in run_command\n",
      "          cmd_obj.run()\n",
      "        File \"C:\\Users\\opal8\\AppData\\Local\\Temp\\pip-install-lhzx3598\\dlib_918974c2d87c413a9698f3f97471efe6\\setup.py\", line 134, in run\n",
      "          self.build_extension(ext)\n",
      "        File \"C:\\Users\\opal8\\AppData\\Local\\Temp\\pip-install-lhzx3598\\dlib_918974c2d87c413a9698f3f97471efe6\\setup.py\", line 171, in build_extension\n",
      "          subprocess.check_call(cmake_setup, cwd=build_folder)\n",
      "        File \"c:\\Users\\opal8\\AppData\\Local\\Programs\\Python\\Python310\\lib\\subprocess.py\", line 369, in check_call\n",
      "          raise CalledProcessError(retcode, cmd)\n",
      "      subprocess.CalledProcessError: Command '['cmake', 'C:\\\\Users\\\\opal8\\\\AppData\\\\Local\\\\Temp\\\\pip-install-lhzx3598\\\\dlib_918974c2d87c413a9698f3f97471efe6\\\\tools\\\\python', '-DCMAKE_LIBRARY_OUTPUT_DIRECTORY=C:\\\\Users\\\\opal8\\\\AppData\\\\Local\\\\Temp\\\\pip-install-lhzx3598\\\\dlib_918974c2d87c413a9698f3f97471efe6\\\\build\\\\lib.win-amd64-cpython-310', '-DPYTHON_EXECUTABLE=c:\\\\Users\\\\opal8\\\\AppData\\\\Local\\\\Programs\\\\Python\\\\Python310\\\\python.exe', '-DCMAKE_LIBRARY_OUTPUT_DIRECTORY_RELEASE=C:\\\\Users\\\\opal8\\\\AppData\\\\Local\\\\Temp\\\\pip-install-lhzx3598\\\\dlib_918974c2d87c413a9698f3f97471efe6\\\\build\\\\lib.win-amd64-cpython-310', '-A', 'x64']' returned non-zero exit status 1.\n",
      "      [end of output]\n",
      "  \n",
      "  note: This error originates from a subprocess, and is likely not a problem with pip.\n",
      "error: legacy-install-failure\n",
      "\n",
      "× Encountered error while trying to install package.\n",
      "╰─> dlib\n",
      "\n",
      "note: This is an issue with the package mentioned above, not pip.\n",
      "hint: See above for output from the failure.\n",
      "\n",
      "[notice] A new release of pip is available: 23.0.1 -> 23.1.2\n",
      "[notice] To update, run: python.exe -m pip install --upgrade pip\n"
     ]
    }
   ],
   "source": [
    "!python -m pip install face_recognition"
   ]
  },
  {
   "cell_type": "code",
   "execution_count": 6,
   "metadata": {},
   "outputs": [
    {
     "name": "stdout",
     "output_type": "stream",
     "text": [
      "Collecting dlib==19.22.99\n",
      "  Downloading https://github.com/jloh02/dlib/releases/download/v19.22/dlib-19.22.99-cp310-cp310-win_amd64.whl (3.0 MB)\n",
      "     ---------------------------------------- 0.0/3.0 MB ? eta -:--:--\n",
      "     ---------------------------------------- 0.0/3.0 MB ? eta -:--:--\n",
      "      --------------------------------------- 0.1/3.0 MB 648.1 kB/s eta 0:00:05\n",
      "     - -------------------------------------- 0.1/3.0 MB 930.9 kB/s eta 0:00:04\n",
      "     -- ------------------------------------- 0.2/3.0 MB 1.1 MB/s eta 0:00:03\n",
      "     --- ------------------------------------ 0.3/3.0 MB 1.2 MB/s eta 0:00:03\n",
      "     ------ --------------------------------- 0.5/3.0 MB 1.7 MB/s eta 0:00:02\n",
      "     ------- -------------------------------- 0.5/3.0 MB 1.7 MB/s eta 0:00:02\n",
      "     --------- ------------------------------ 0.7/3.0 MB 1.9 MB/s eta 0:00:02\n",
      "     -------------- ------------------------- 1.0/3.0 MB 2.5 MB/s eta 0:00:01\n",
      "     --------------- ------------------------ 1.2/3.0 MB 2.5 MB/s eta 0:00:01\n",
      "     ----------------- ---------------------- 1.3/3.0 MB 2.7 MB/s eta 0:00:01\n",
      "     --------------------- ------------------ 1.6/3.0 MB 3.0 MB/s eta 0:00:01\n",
      "     -------------------------- ------------- 1.9/3.0 MB 3.3 MB/s eta 0:00:01\n",
      "     ------------------------------ --------- 2.2/3.0 MB 3.5 MB/s eta 0:00:01\n",
      "     --------------------------------- ------ 2.4/3.0 MB 3.6 MB/s eta 0:00:01\n",
      "     ----------------------------------- ---- 2.6/3.0 MB 3.7 MB/s eta 0:00:01\n",
      "     ---------------------------------------  3.0/3.0 MB 3.9 MB/s eta 0:00:01\n",
      "     ---------------------------------------- 3.0/3.0 MB 3.8 MB/s eta 0:00:00\n"
     ]
    },
    {
     "name": "stderr",
     "output_type": "stream",
     "text": [
      "\n",
      "[notice] A new release of pip is available: 23.0.1 -> 23.1.2\n",
      "[notice] To update, run: python.exe -m pip install --upgrade pip\n"
     ]
    }
   ],
   "source": [
    "! python -m pip install https://github.com/jloh02/dlib/releases/download/v19.22/dlib-19.22.99-cp310-cp310-win_amd64.whl"
   ]
  },
  {
   "cell_type": "code",
   "execution_count": 7,
   "metadata": {},
   "outputs": [
    {
     "name": "stdout",
     "output_type": "stream",
     "text": [
      "Requirement already satisfied: cmake in c:\\users\\opal8\\appdata\\local\\programs\\python\\python310\\lib\\site-packages (3.26.3)\n"
     ]
    },
    {
     "name": "stderr",
     "output_type": "stream",
     "text": [
      "\n",
      "[notice] A new release of pip is available: 23.0.1 -> 23.1.2\n",
      "[notice] To update, run: python.exe -m pip install --upgrade pip\n"
     ]
    },
    {
     "name": "stdout",
     "output_type": "stream",
     "text": [
      "Requirement already satisfied: face_recognition in c:\\users\\opal8\\appdata\\local\\programs\\python\\python310\\lib\\site-packages (1.3.0)\n",
      "Requirement already satisfied: Click>=6.0 in c:\\users\\opal8\\appdata\\local\\programs\\python\\python310\\lib\\site-packages (from face_recognition) (8.1.3)\n",
      "Requirement already satisfied: face-recognition-models>=0.3.0 in c:\\users\\opal8\\appdata\\local\\programs\\python\\python310\\lib\\site-packages (from face_recognition) (0.3.0)\n",
      "Requirement already satisfied: dlib>=19.7 in c:\\users\\opal8\\appdata\\local\\programs\\python\\python310\\lib\\site-packages (from face_recognition) (19.22.99)\n",
      "Requirement already satisfied: numpy in c:\\users\\opal8\\appdata\\local\\programs\\python\\python310\\lib\\site-packages (from face_recognition) (1.24.3)\n",
      "Requirement already satisfied: Pillow in c:\\users\\opal8\\appdata\\local\\programs\\python\\python310\\lib\\site-packages (from face_recognition) (9.5.0)\n",
      "Requirement already satisfied: colorama in c:\\users\\opal8\\appdata\\roaming\\python\\python310\\site-packages (from Click>=6.0->face_recognition) (0.4.6)\n"
     ]
    },
    {
     "name": "stderr",
     "output_type": "stream",
     "text": [
      "\n",
      "[notice] A new release of pip is available: 23.0.1 -> 23.1.2\n",
      "[notice] To update, run: python.exe -m pip install --upgrade pip\n"
     ]
    }
   ],
   "source": [
    "!python -m pip install cmake\n",
    "!python -m pip install face_recognition"
   ]
  },
  {
   "cell_type": "code",
   "execution_count": null,
   "metadata": {},
   "outputs": [],
   "source": [
    "import cv2\n",
    "vid = cv2.VideoCapture(0)\n",
    "fd=cv2.CascadeClassifier(\n",
    "    cv2.data.haarcascades + \n",
    "    'haarcascade_frontalface_default.xml'\n",
    ")\n",
    "frameCount = 0\n",
    "name = input('enter your name:')\n",
    "while True:\n",
    "    flag, img = vid.read()\n",
    "    if flag:\n",
    "        faces = fd.detectMultiScale(\n",
    "            cv2.cvtColor(img,cv2.COLOR_BGR2GRAY),\n",
    "            scaleFactor = 1.1,\n",
    "            minNeighbors = 5,\n",
    "            minSize = (50,50)\n",
    "            )\n",
    "        if len(faces) == 1:\n",
    "                x,y,w,h = faces[0]\n",
    "                img_face = img[y:y+h, x:x+w,:].copy() \n",
    "                cv2.imwrite(f'()')\n",
    "\n",
    "\n",
    "        cv2.imshow('Preview',img)\n",
    "        key = cv2.waitKey(1)\n",
    "        if key == ord('x'):\n",
    "            break\n",
    "        else:\n",
    "            break\n",
    "vid.release()        \n",
    "cv2.destroyAllWindows()\n",
    "                 "
   ]
  }
 ],
 "metadata": {
  "kernelspec": {
   "display_name": "Python 3",
   "language": "python",
   "name": "python3"
  },
  "language_info": {
   "codemirror_mode": {
    "name": "ipython",
    "version": 3
   },
   "file_extension": ".py",
   "mimetype": "text/x-python",
   "name": "python",
   "nbconvert_exporter": "python",
   "pygments_lexer": "ipython3",
   "version": "3.10.11"
  },
  "orig_nbformat": 4
 },
 "nbformat": 4,
 "nbformat_minor": 2
}
